{
 "cells": [
  {
   "cell_type": "markdown",
   "metadata": {},
   "source": [
    "Operações matriciais\n",
    "====================\n",
    "\n",
    "\n",
    "Uma das principais vantagens da estrutura *ndarray* é sua habilidade de processamento matricial.\n",
    "Assim, para se multiplicar todos os elementos de um array por um escalar basta escrever *a * 5*, por\n",
    "exemplo. Para se fazer qualquer operação lógica ou aritmética entre arrays, basta escrever *a operação b*:\n"
   ]
  },
  {
   "cell_type": "code",
   "execution_count": 13,
   "metadata": {},
   "outputs": [
    {
     "name": "stdout",
     "output_type": "stream",
     "text": [
      "a=\n",
      " [[ 0  1  2  3]\n",
      " [ 4  5  6  7]\n",
      " [ 8  9 10 11]\n",
      " [12 13 14 15]\n",
      " [16 17 18 19]]\n",
      "b=\n",
      " [[2. 2. 2. 2.]\n",
      " [2. 2. 2. 2.]\n",
      " [2. 2. 2. 2.]\n",
      " [2. 2. 2. 2.]\n",
      " [2. 2. 2. 2.]]\n",
      "c=\n",
      " [[12 11 10]\n",
      " [ 9  8  7]\n",
      " [ 6  5  4]\n",
      " [ 3  2  1]]\n"
     ]
    }
   ],
   "source": [
    "import numpy as np\n",
    "\n",
    "a = np.arange(20).reshape(5,4)\n",
    "b = 2 * np.ones((5,4))    \n",
    "c = np.arange(12,0,-1).reshape(4,3)\n",
    "print('a=\\n', a )\n",
    "print('b=\\n', b )\n",
    "print('c=\\n', c )"
   ]
  },
  {
   "cell_type": "markdown",
   "metadata": {},
   "source": [
    "Multiplicação de array por escalar: *b x 5*\n",
    "--------------------------------------------------"
   ]
  },
  {
   "cell_type": "code",
   "execution_count": 14,
   "metadata": {},
   "outputs": [
    {
     "name": "stdout",
     "output_type": "stream",
     "text": [
      "b5=\n",
      " [[10. 10. 10. 10.]\n",
      " [10. 10. 10. 10.]\n",
      " [10. 10. 10. 10.]\n",
      " [10. 10. 10. 10.]\n",
      " [10. 10. 10. 10.]]\n"
     ]
    }
   ],
   "source": [
    "b5 = 5 * b\n",
    "\n",
    "print('b5=\\n', b5 )"
   ]
  },
  {
   "cell_type": "markdown",
   "metadata": {},
   "source": [
    "Soma de arrays: *a + b*\n",
    "---------------------------"
   ]
  },
  {
   "cell_type": "code",
   "execution_count": 15,
   "metadata": {},
   "outputs": [
    {
     "name": "stdout",
     "output_type": "stream",
     "text": [
      "amb=\n",
      " [[ 2.  3.  4.  5.]\n",
      " [ 6.  7.  8.  9.]\n",
      " [10. 11. 12. 13.]\n",
      " [14. 15. 16. 17.]\n",
      " [18. 19. 20. 21.]]\n"
     ]
    }
   ],
   "source": [
    "amb = a + b\n",
    "\n",
    "print('amb=\\n', amb )"
   ]
  },
  {
   "cell_type": "markdown",
   "metadata": {},
   "source": [
    "Transposta de uma matriz: *a.T*\n",
    "-----------------------------------\n",
    "\n",
    "A transposta de uma matriz, troca os eixos das coordenadas. O elemento que\n",
    "estava na posição *(r,c)* vai agora estar na posição *(c,r)*. O shape\n",
    "da matriz resultante ficará portanto com os valores trocados. A operação\n",
    "de transposição é feita através de cópia rasa, portanto é uma operação\n",
    "muito eficiente e deve ser utilizada sempre que possível.\n",
    "\n",
    "Veja o exemplo a seguir:"
   ]
  },
  {
   "cell_type": "code",
   "execution_count": 16,
   "metadata": {},
   "outputs": [
    {
     "name": "stdout",
     "output_type": "stream",
     "text": [
      "a.shape= (5, 4)\n",
      "a.T.shape= (4, 5)\n",
      "a=\n",
      " [[ 0  1  2  3]\n",
      " [ 4  5  6  7]\n",
      " [ 8  9 10 11]\n",
      " [12 13 14 15]\n",
      " [16 17 18 19]]\n",
      "at=\n",
      " [[ 0  4  8 12 16]\n",
      " [ 1  5  9 13 17]\n",
      " [ 2  6 10 14 18]\n",
      " [ 3  7 11 15 19]]\n"
     ]
    }
   ],
   "source": [
    "at = a.T\n",
    "print('a.shape=',a.shape )\n",
    "print('a.T.shape=',a.T.shape )    \n",
    "print('a=\\n', a )\n",
    "print('at=\\n', at )"
   ]
  },
  {
   "cell_type": "markdown",
   "metadata": {},
   "source": [
    "Multiplicação de matrizes: *a x c*\n",
    "------------------------------------\n",
    "\n",
    "A multiplicação de matrizes é feita através do operador *dot*. \n",
    "Para que a multiplicação seja possível é importante que o número de\n",
    "colunas do primeiro *ndarray* seja igual ao número de linhas do\n",
    "segundo. As dimensões do resultado será o número de linhas do \n",
    "primeiro *ndarray* pelo número de colunas do segundo *ndarray*. Confira:"
   ]
  },
  {
   "cell_type": "code",
   "execution_count": 17,
   "metadata": {},
   "outputs": [
    {
     "name": "stdout",
     "output_type": "stream",
     "text": [
      "a.shape: (5, 4)\n",
      "c.shape: (4, 3)\n",
      "a=\n",
      " [[ 0  1  2  3]\n",
      " [ 4  5  6  7]\n",
      " [ 8  9 10 11]\n",
      " [12 13 14 15]\n",
      " [16 17 18 19]]\n",
      "c=\n",
      " [[12 11 10]\n",
      " [ 9  8  7]\n",
      " [ 6  5  4]\n",
      " [ 3  2  1]]\n",
      "ac=\n",
      " [[ 30  24  18]\n",
      " [150 128 106]\n",
      " [270 232 194]\n",
      " [390 336 282]\n",
      " [510 440 370]]\n",
      "ac.shape: (5, 3)\n"
     ]
    }
   ],
   "source": [
    "ac = a.dot(c)\n",
    "\n",
    "print('a.shape:',a.shape )\n",
    "print('c.shape:',c.shape )\n",
    "print('a=\\n',a )\n",
    "print('c=\\n',c )\n",
    "print('ac=\\n', ac )\n",
    "print('ac.shape:',ac.shape )"
   ]
  },
  {
   "cell_type": "markdown",
   "metadata": {},
   "source": [
    "Operações de comparação\n",
    "------------------------------------"
   ]
  },
  {
   "cell_type": "code",
   "execution_count": 34,
   "metadata": {},
   "outputs": [
    {
     "name": "stdout",
     "output_type": "stream",
     "text": [
      "a.shape: (5, 4) / b.shape: (5, 4)\n",
      "a.dtype: int32 / b.dtype: float64\n",
      "a=\n",
      " [[ 0  1  2  3]\n",
      " [ 4  5  6  7]\n",
      " [ 8  9 10 11]\n",
      " [12 13 14 15]\n",
      " [16 17 18 19]]\n",
      "b=\n",
      " [[2. 2. 2. 2.]\n",
      " [2. 2. 2. 2.]\n",
      " [2. 2. 2. 2.]\n",
      " [2. 2. 2. 2.]\n",
      " [2. 2. 2. 2.]]\n",
      "amenorigual10=\n",
      " [[ True  True  True  True]\n",
      " [ True  True  True  True]\n",
      " [ True  True  True False]\n",
      " [False False False False]\n",
      " [False False False False]]\n",
      "amenorigual10.shape: (5, 4) amenorigual10.dtype: bool\n",
      "amaiorb=\n",
      " [[False False False  True]\n",
      " [ True  True  True  True]\n",
      " [ True  True  True  True]\n",
      " [ True  True  True  True]\n",
      " [ True  True  True  True]]\n",
      "amaiorb.shape: (5, 4) amaiorb.dtype: bool\n",
      "aigualb=\n",
      " [[False False  True False]\n",
      " [False False False False]\n",
      " [False False False False]\n",
      " [False False False False]\n",
      " [False False False False]]\n",
      "aigualb.shape: (5, 4) aigualb.dtype: bool\n"
     ]
    }
   ],
   "source": [
    "amenorigual10 = a <= 10\n",
    "amaiorb = a > b\n",
    "aigualb = a == b\n",
    "\n",
    "print('a.shape:',a.shape,'/ b.shape:',b.shape )\n",
    "print('a.dtype:',a.dtype,'/ b.dtype:',b.dtype )\n",
    "print('a=\\n',a )\n",
    "print('b=\\n',b )\n",
    "print('amenorigual10=\\n', amenorigual10 )\n",
    "print('amenorigual10.shape:',amenorigual10.shape,'amenorigual10.dtype:',amenorigual10.dtype )\n",
    "print('amaiorb=\\n', amaiorb )\n",
    "print('amaiorb.shape:',amaiorb.shape,'amaiorb.dtype:',amaiorb.dtype )\n",
    "print('aigualb=\\n', aigualb )\n",
    "print('aigualb.shape:',aigualb.shape,'aigualb.dtype:',aigualb.dtype )"
   ]
  },
  {
   "cell_type": "markdown",
   "metadata": {},
   "source": [
    "Note que as operações de comparação envolvendo arrays resultam em arrays booleanos. Tais arrays podem ser muito úteis para indexação, como exemplificado abaixo:"
   ]
  },
  {
   "cell_type": "code",
   "execution_count": 38,
   "metadata": {},
   "outputs": [
    {
     "name": "stdout",
     "output_type": "stream",
     "text": [
      "a[amenorigual10==True]=\n",
      " [ 0  1  2  3  4  5  6  7  8  9 10]\n",
      "equivalente a\n",
      "a[a<=10]=\n",
      " [ 0  1  2  3  4  5  6  7  8  9 10]\n",
      "\n",
      "a[amaiorb==True]=\n",
      " [ 3  4  5  6  7  8  9 10 11 12 13 14 15 16 17 18 19]\n",
      "equivalente a\n",
      "a[a>b]=\n",
      " [ 3  4  5  6  7  8  9 10 11 12 13 14 15 16 17 18 19]\n"
     ]
    }
   ],
   "source": [
    "print('a[amenorigual10==True]=\\n',a[amenorigual10==True] )\n",
    "print('equivalente a')\n",
    "print('a[a<=10]=\\n',a[a<=10] )\n",
    "print()\n",
    "print('a[amaiorb==True]=\\n',a[amaiorb==True] )\n",
    "print('equivalente a')\n",
    "print('a[a>b]=\\n',a[a>b] )"
   ]
  }
 ],
 "metadata": {
  "kernelspec": {
   "display_name": "Python 3",
   "language": "python",
   "name": "python3"
  },
  "language_info": {
   "codemirror_mode": {
    "name": "ipython",
    "version": 3
   },
   "file_extension": ".py",
   "mimetype": "text/x-python",
   "name": "python",
   "nbconvert_exporter": "python",
   "pygments_lexer": "ipython3",
   "version": "3.11.6"
  },
  "vscode": {
   "interpreter": {
    "hash": "31f2aee4e71d21fbe5cf8b01ff0e069b9275f58929596ceb00d14d90e3e16cd6"
   }
  }
 },
 "nbformat": 4,
 "nbformat_minor": 1
}

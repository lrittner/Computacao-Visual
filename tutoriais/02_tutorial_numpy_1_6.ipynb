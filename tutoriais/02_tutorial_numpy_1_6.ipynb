{
 "cells": [
  {
   "cell_type": "markdown",
   "metadata": {},
   "source": [
    "Funções indices e meshgrid\n",
    "=================================\n",
    "\n",
    "As funções ``indices`` e ``meshgrid`` são extremamente úteis na geração de imagens sintéticas e o seu aprendizado permite também\n",
    "entender as vantagens da programação matricial, evitando-se a varredura seqüencial da imagem muito usual na programação na linguagem C."
   ]
  },
  {
   "cell_type": "markdown",
   "metadata": {},
   "source": [
    "## Operador indices em pequenos exemplos numéricos\n",
    "\n",
    "A função ``indices`` recebe como parâmetros uma tupla com as dimensões (H,W) das matrizes a serem criadas. No exemplo a seguir, estamos\n",
    "gerando matrizes de 5 linhas e 10 colunas. Esta função retorna uma tupla de duas matrizes que podem ser obtidas fazendo suas atribuições\n",
    "como no exemplo a seguir onde criamos as matrizes *r* e *c*, ambas de tamanho (5,10), isto é, 5 linhas e 10 colunas:"
   ]
  },
  {
   "cell_type": "code",
   "execution_count": 1,
   "metadata": {},
   "outputs": [
    {
     "name": "stdout",
     "output_type": "stream",
     "text": [
      "r=\n",
      " [[0 0 0 0 0 0 0 0 0 0]\n",
      " [1 1 1 1 1 1 1 1 1 1]\n",
      " [2 2 2 2 2 2 2 2 2 2]\n",
      " [3 3 3 3 3 3 3 3 3 3]\n",
      " [4 4 4 4 4 4 4 4 4 4]]\n",
      "c=\n",
      " [[0 1 2 3 4 5 6 7 8 9]\n",
      " [0 1 2 3 4 5 6 7 8 9]\n",
      " [0 1 2 3 4 5 6 7 8 9]\n",
      " [0 1 2 3 4 5 6 7 8 9]\n",
      " [0 1 2 3 4 5 6 7 8 9]]\n"
     ]
    }
   ],
   "source": [
    "import numpy as np\n",
    "\n",
    "r,c = np.indices( (5, 10) )\n",
    "print('r=\\n', r )\n",
    "print('c=\\n', c )"
   ]
  },
  {
   "cell_type": "markdown",
   "metadata": {},
   "source": [
    "Note que a matriz *r* é uma matriz onde cada elemento é a sua coordenada linha e a matriz *c* é uma matriz onde cada elemento é\n",
    "a sua coordenada coluna. Desta forma, qualquer operação matricial feita com *r* e *c*, na realidade você está processando as\n",
    "coordenadas da matriz. Assim, é possível gerar diversas imagens sintéticas a partir de uma função de suas coordenadas.\n",
    "\n",
    "Como o NumPy processa as matrizes diretamente, sem a necessidade de fazer um *for* explícito, a notação do programa fica bem simples\n",
    "e a eficiência também. O único inconveniente é o uso da memória para se calcular as matrizes de índices *r* e *c*.\n",
    "\n",
    "Por exemplo seja a função que seja a soma de suas coordenadas $f(r,c) = r + c$:"
   ]
  },
  {
   "cell_type": "code",
   "execution_count": 2,
   "metadata": {},
   "outputs": [
    {
     "name": "stdout",
     "output_type": "stream",
     "text": [
      "f=\n",
      " [[ 0  1  2  3  4  5  6  7  8  9]\n",
      " [ 1  2  3  4  5  6  7  8  9 10]\n",
      " [ 2  3  4  5  6  7  8  9 10 11]\n",
      " [ 3  4  5  6  7  8  9 10 11 12]\n",
      " [ 4  5  6  7  8  9 10 11 12 13]]\n"
     ]
    }
   ],
   "source": [
    "f = r + c\n",
    "print('f=\\n', f )"
   ]
  },
  {
   "cell_type": "markdown",
   "metadata": {},
   "source": [
    "Ou ainda a função diferença entre a coordenada linha e coluna $f(r,c) = r - c$:"
   ]
  },
  {
   "cell_type": "code",
   "execution_count": 3,
   "metadata": {},
   "outputs": [
    {
     "name": "stdout",
     "output_type": "stream",
     "text": [
      "f=\n",
      " [[ 0 -1 -2 -3 -4 -5 -6 -7 -8 -9]\n",
      " [ 1  0 -1 -2 -3 -4 -5 -6 -7 -8]\n",
      " [ 2  1  0 -1 -2 -3 -4 -5 -6 -7]\n",
      " [ 3  2  1  0 -1 -2 -3 -4 -5 -6]\n",
      " [ 4  3  2  1  0 -1 -2 -3 -4 -5]]\n"
     ]
    }
   ],
   "source": [
    "f = r - c\n",
    "print('f=\\n', f )"
   ]
  },
  {
   "cell_type": "markdown",
   "metadata": {},
   "source": [
    "Ou ainda a função $f(r,c) = (r + c) \\% 2$ onde % é operador módulo. Esta função retorna 1 se a soma das coordenadas for ímpar e 0 caso contrário.\n",
    "É uma imagem no estilo de um tabuleiro de xadrez de valores 0 e 1:"
   ]
  },
  {
   "cell_type": "code",
   "execution_count": 4,
   "metadata": {},
   "outputs": [
    {
     "name": "stdout",
     "output_type": "stream",
     "text": [
      "f=\n",
      " [[0 1 0 1 0 1 0 1 0 1]\n",
      " [1 0 1 0 1 0 1 0 1 0]\n",
      " [0 1 0 1 0 1 0 1 0 1]\n",
      " [1 0 1 0 1 0 1 0 1 0]\n",
      " [0 1 0 1 0 1 0 1 0 1]]\n"
     ]
    }
   ],
   "source": [
    "f = (r + c) % 2\n",
    "print('f=\\n', f )"
   ]
  },
  {
   "cell_type": "markdown",
   "metadata": {},
   "source": [
    "Ou ainda a função de uma reta $f(r,c) = (r = \\frac{1}{2}c)$:"
   ]
  },
  {
   "cell_type": "code",
   "execution_count": 5,
   "metadata": {},
   "outputs": [
    {
     "name": "stdout",
     "output_type": "stream",
     "text": [
      "f=\n",
      " [[ True  True False False False False False False False False]\n",
      " [False False  True  True False False False False False False]\n",
      " [False False False False  True  True False False False False]\n",
      " [False False False False False False  True  True False False]\n",
      " [False False False False False False False False  True  True]]\n"
     ]
    }
   ],
   "source": [
    "f = (r == c//2)\n",
    "print('f=\\n', f )"
   ]
  },
  {
   "cell_type": "markdown",
   "metadata": {},
   "source": [
    "Ou ainda a função parabólica dada pela soma do quadrado de suas coordenadas $f(r,c) = r^2 + c^2$:"
   ]
  },
  {
   "cell_type": "code",
   "execution_count": 6,
   "metadata": {},
   "outputs": [
    {
     "name": "stdout",
     "output_type": "stream",
     "text": [
      "f=\n",
      " [[ 0  1  4  9 16 25 36 49 64 81]\n",
      " [ 1  2  5 10 17 26 37 50 65 82]\n",
      " [ 4  5  8 13 20 29 40 53 68 85]\n",
      " [ 9 10 13 18 25 34 45 58 73 90]\n",
      " [16 17 20 25 32 41 52 65 80 97]]\n"
     ]
    }
   ],
   "source": [
    "f = r**2 + c**2\n",
    "print('f=\\n', f )"
   ]
  },
  {
   "cell_type": "markdown",
   "metadata": {},
   "source": [
    "Ou ainda a função do círculo de raio 4, com centro em (0,0) $f(r,c) = (r^2 + c^2 < 4^2)$:"
   ]
  },
  {
   "cell_type": "code",
   "execution_count": 7,
   "metadata": {},
   "outputs": [
    {
     "name": "stdout",
     "output_type": "stream",
     "text": [
      "f=\n",
      " [[1 1 1 1 0 0 0 0 0 0]\n",
      " [1 1 1 1 0 0 0 0 0 0]\n",
      " [1 1 1 1 0 0 0 0 0 0]\n",
      " [1 1 1 0 0 0 0 0 0 0]\n",
      " [0 0 0 0 0 0 0 0 0 0]]\n"
     ]
    }
   ],
   "source": [
    "f = ((r**2 + c**2) < 4**2)\n",
    "print('f=\\n', f * 1 )"
   ]
  },
  {
   "cell_type": "markdown",
   "metadata": {},
   "source": [
    "## Meshgrid\n",
    "   \n",
    "A função ``meshgrid`` é semelhante à função ``indices`` vista\n",
    "anteriormente, porém, enquanto ``indices`` gera as coordenadas inteiras não negativas a partir de um ``shape(H,W)``, \n",
    "o ``meshgrid`` gera os valores das matrizes a partir de dois vetores de valores reais quaisquer, um para as linhas e outro para as colunas.\n",
    "\n",
    "Veja a seguir um pequeno exemplo numérico. Para que o ``meshgrid`` fique compatível com a nossa convenção de (linhas,colunas), deve-se\n",
    "usar o parâmetro ``indexing='ij'``."
   ]
  },
  {
   "cell_type": "code",
   "execution_count": 9,
   "metadata": {},
   "outputs": [
    {
     "name": "stdout",
     "output_type": "stream",
     "text": [
      "r=\n",
      " [[-1.5 -1.5 -1.5 -1.5 -1.5 -1.5]\n",
      " [-1.  -1.  -1.  -1.  -1.  -1. ]\n",
      " [-0.5 -0.5 -0.5 -0.5 -0.5 -0.5]\n",
      " [ 0.   0.   0.   0.   0.   0. ]\n",
      " [ 0.5  0.5  0.5  0.5  0.5  0.5]]\n",
      "c=\n",
      " [[-20 -10   0  10  20  30]\n",
      " [-20 -10   0  10  20  30]\n",
      " [-20 -10   0  10  20  30]\n",
      " [-20 -10   0  10  20  30]\n",
      " [-20 -10   0  10  20  30]]\n"
     ]
    }
   ],
   "source": [
    "import numpy as np\n",
    "r, c = np.meshgrid( np.array([-1.5, -1.0, -0.5, 0.0, 0.5]), \n",
    "                    np.array([ -20,  -10,    0,  10,  20, 30]), indexing='ij')\n",
    "print('r=\\n',r)\n",
    "print('c=\\n',c)"
   ]
  },
  {
   "cell_type": "markdown",
   "metadata": {},
   "source": [
    "### Gerando os vetores com linspace\n",
    "\n",
    "A função ``linspace`` gera vetor em ponto flutuante recebendo os parâmetro de valor inicial, valor final e número de pontos do vetor.\n",
    "Desta forma ela é bastante usada para gerar os parâmetro para o ``meshgrid``.\n",
    " \n",
    "Repetindo os mesmos valores do exemplo anterior, porém usando ``linspace``. Observe que o primeiro vetor possui 5 pontos,\n",
    "começando com valor -1.5 e o valor final é 0.5 (inclusive). O segundo vetor possui 6 pontos, começando de -20 até 30:"
   ]
  },
  {
   "cell_type": "code",
   "execution_count": 10,
   "metadata": {},
   "outputs": [
    {
     "name": "stdout",
     "output_type": "stream",
     "text": [
      "rows: [-1.5 -1.  -0.5  0.   0.5]\n",
      "cols: [-20. -10.   0.  10.  20.  30.]\n"
     ]
    }
   ],
   "source": [
    "rows = np.linspace(-1.5, 0.5, 5)\n",
    "cols = np.linspace(-20, 30, 6)\n",
    "\n",
    "print('rows:', rows)\n",
    "print('cols:', cols)"
   ]
  },
  {
   "cell_type": "markdown",
   "metadata": {},
   "source": [
    "Usando os dois vetores gerados pelo ``linspace`` no ``meshgrid``:\n",
    "   "
   ]
  },
  {
   "cell_type": "code",
   "execution_count": 11,
   "metadata": {},
   "outputs": [
    {
     "name": "stdout",
     "output_type": "stream",
     "text": [
      "r = \n",
      " [[-1.5 -1.5 -1.5 -1.5 -1.5 -1.5]\n",
      " [-1.  -1.  -1.  -1.  -1.  -1. ]\n",
      " [-0.5 -0.5 -0.5 -0.5 -0.5 -0.5]\n",
      " [ 0.   0.   0.   0.   0.   0. ]\n",
      " [ 0.5  0.5  0.5  0.5  0.5  0.5]]\n",
      "c = \n",
      " [[-20. -10.   0.  10.  20.  30.]\n",
      " [-20. -10.   0.  10.  20.  30.]\n",
      " [-20. -10.   0.  10.  20.  30.]\n",
      " [-20. -10.   0.  10.  20.  30.]\n",
      " [-20. -10.   0.  10.  20.  30.]]\n"
     ]
    }
   ],
   "source": [
    "r, c = np.meshgrid(rows, cols, indexing='ij')\n",
    "print('r = \\n', r)\n",
    "print('c = \\n', c)"
   ]
  },
  {
   "cell_type": "markdown",
   "metadata": {},
   "source": [
    "Podemos agora gerar uma matriz ou imagem que seja função destes valores. Por exemplo ser o produto deles:"
   ]
  },
  {
   "cell_type": "code",
   "execution_count": 12,
   "metadata": {},
   "outputs": [
    {
     "name": "stdout",
     "output_type": "stream",
     "text": [
      "f=\n",
      " [[ 30.  15.  -0. -15. -30. -45.]\n",
      " [ 20.  10.  -0. -10. -20. -30.]\n",
      " [ 10.   5.  -0.  -5. -10. -15.]\n",
      " [ -0.  -0.   0.   0.   0.   0.]\n",
      " [-10.  -5.   0.   5.  10.  15.]]\n"
     ]
    }
   ],
   "source": [
    "f = r * c\n",
    "print('f=\\n', f)"
   ]
  },
  {
   "cell_type": "markdown",
   "metadata": {},
   "source": [
    "# Função Clip\n",
    "\n",
    "A função clip substitui os valores de um array que estejam abaixo de um limiar mínimo ou que estejam acima de um limiar máximo,\n",
    "por esses limiares mínimo e máximo, respectivamente. Esta função é especialmente útil em processamento de imagens para evitar \n",
    "que os índices ultrapassem os limites das imagens."
   ]
  },
  {
   "cell_type": "markdown",
   "metadata": {},
   "source": [
    "## Exemplo simples"
   ]
  },
  {
   "cell_type": "code",
   "execution_count": 13,
   "metadata": {},
   "outputs": [
    {
     "name": "stdout",
     "output_type": "stream",
     "text": [
      "a =  [11  1  2  3  4  5 12 -3 -4  7  4]\n",
      "np.clip(a,0,10) =  [10  1  2  3  4  5 10  0  0  7  4]\n"
     ]
    }
   ],
   "source": [
    "a = np.array([11,1,2,3,4,5,12,-3,-4,7,4])\n",
    "print('a = ',a )\n",
    "print('np.clip(a,0,10) = ', np.clip(a,0,10) )"
   ]
  },
  {
   "cell_type": "markdown",
   "metadata": {},
   "source": [
    "## Exemplo com ponto flutuante\n",
    "\n",
    "Observe que se os parâmetros do clip estiverem em ponto flutuante, o resultado também será em ponto flutuante:"
   ]
  },
  {
   "cell_type": "code",
   "execution_count": 15,
   "metadata": {},
   "outputs": [
    {
     "name": "stdout",
     "output_type": "stream",
     "text": [
      "a= [0 1 2 3 4 5 6 7 8 9]\n",
      "np.clip(a,2.5,7.5)= [2.5 2.5 2.5 3.  4.  5.  6.  7.  7.5 7.5]\n"
     ]
    }
   ],
   "source": [
    "a = np.arange(10).astype('int')\n",
    "print('a=',a )\n",
    "print('np.clip(a,2.5,7.5)=',np.clip(a,2.5,7.5) )"
   ]
  },
  {
   "cell_type": "markdown",
   "metadata": {},
   "source": [
    "# Documentação Oficial Numpy\n",
    " \n",
    "- [meshgrid](http://docs.scipy.org/doc/numpy/reference/generated/numpy.meshgrid.html)\n",
    "- [indices](http://docs.scipy.org/doc/numpy/reference/generated/numpy.indices.html) \n",
    "- [linspace](http://docs.scipy.org/doc/numpy/reference/generated/numpy.linspace.html)\n",
    "- [clip](https://numpy.org/doc/stable/reference/generated/numpy.clip.html)"
   ]
  }
 ],
 "metadata": {
  "kernelspec": {
   "display_name": "Python 3",
   "language": "python",
   "name": "python3"
  },
  "language_info": {
   "codemirror_mode": {
    "name": "ipython",
    "version": 3
   },
   "file_extension": ".py",
   "mimetype": "text/x-python",
   "name": "python",
   "nbconvert_exporter": "python",
   "pygments_lexer": "ipython3",
   "version": "3.11.6"
  },
  "vscode": {
   "interpreter": {
    "hash": "31f2aee4e71d21fbe5cf8b01ff0e069b9275f58929596ceb00d14d90e3e16cd6"
   }
  }
 },
 "nbformat": 4,
 "nbformat_minor": 1
}

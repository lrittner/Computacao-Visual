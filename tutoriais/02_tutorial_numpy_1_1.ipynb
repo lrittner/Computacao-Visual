{
 "cells": [
  {
   "cell_type": "markdown",
   "metadata": {},
   "source": [
    "# Introdução ao NumPy\n",
    "\n",
    "## O tipo ndarray\n",
    "\n",
    "O tipo ndarray, ou apenas array é um arranjo de itens homogêneos de dimensionalidade N, indexados por uma tupla de N inteiros. Existem 3 informações essenciais associadas ao ndarray: o tipo dos dados, suas dimensões e seus dados em si. A propriedade dtype permite saber o tipo de dados enquanto que shape é uma tupla que indica o tamanho de cada dimensão do arranjo. O acesso aos dados em si deve ser feito por indexação, por fatiamento ou pela variável em si.\n",
    "\n",
    "Existem várias maneiras de criar uma variável do tipo ndarray. Por exemplo, é possível criar uma a partir de uma lista (1D) ou lista de listas usando a função array. O tipo de matriz resultante é deduzida a partir do tipo de elementos nas sequências.\n",
    "\n",
    "Veja a seguir um vetor de inteiros com 7 elementos. Note que o vetor é uma linha com 7 colunas. Observe também que o shape é uma tupla de um único elemento (veja a vírgula que aparece por ser uma tupla)."
   ]
  },
  {
   "cell_type": "code",
   "execution_count": 80,
   "metadata": {},
   "outputs": [
    {
     "name": "stdout",
     "output_type": "stream",
     "text": [
      "Dimensões: a.shape = (7,)\n",
      "Tipo dos elementos: a.dtype = int32\n",
      "Imprimindo o array completo:\n",
      " a = [  2   3   4  -1  -2 256 270]\n"
     ]
    }
   ],
   "source": [
    "import numpy as np\n",
    "\n",
    "a = np.array([2,3,4,-1,-2,256, 270])\n",
    "print('Dimensões: a.shape =', a.shape)\n",
    "print('Tipo dos elementos: a.dtype =', a.dtype)\n",
    "print('Imprimindo o array completo:\\n a =',a)"
   ]
  },
  {
   "cell_type": "markdown",
   "metadata": {},
   "source": [
    "É necessário ter cuidado ao definir que tipo de dados serão armazenados em um array para evitar erros e inconsistências. Observe o exemplo abaixo, no qual definimos explicitamente o dtype do array como 'uint8' ao invés de deixar que o próprio NumPy deduza o tipo dos dados."
   ]
  },
  {
   "cell_type": "code",
   "execution_count": 81,
   "metadata": {},
   "outputs": [
    {
     "name": "stdout",
     "output_type": "stream",
     "text": [
      "Dimensões: a.shape = (7,)\n",
      "Tipo dos elementos: a.dtype = uint8\n",
      "Imprimindo o array completo:\n",
      " a = [  2   3   4 255 254   0  14]\n"
     ]
    },
    {
     "name": "stderr",
     "output_type": "stream",
     "text": [
      "C:\\Users\\caios\\AppData\\Local\\Temp\\ipykernel_4384\\3990032683.py:1: DeprecationWarning: NumPy will stop allowing conversion of out-of-bound Python integers to integer arrays.  The conversion of -1 to uint8 will fail in the future.\n",
      "For the old behavior, usually:\n",
      "    np.array(value).astype(dtype)\n",
      "will give the desired result (the cast overflows).\n",
      "  a = np.array([2,3,4,-1,-2,256, 270], 'uint8')\n",
      "C:\\Users\\caios\\AppData\\Local\\Temp\\ipykernel_4384\\3990032683.py:1: DeprecationWarning: NumPy will stop allowing conversion of out-of-bound Python integers to integer arrays.  The conversion of -2 to uint8 will fail in the future.\n",
      "For the old behavior, usually:\n",
      "    np.array(value).astype(dtype)\n",
      "will give the desired result (the cast overflows).\n",
      "  a = np.array([2,3,4,-1,-2,256, 270], 'uint8')\n",
      "C:\\Users\\caios\\AppData\\Local\\Temp\\ipykernel_4384\\3990032683.py:1: DeprecationWarning: NumPy will stop allowing conversion of out-of-bound Python integers to integer arrays.  The conversion of 256 to uint8 will fail in the future.\n",
      "For the old behavior, usually:\n",
      "    np.array(value).astype(dtype)\n",
      "will give the desired result (the cast overflows).\n",
      "  a = np.array([2,3,4,-1,-2,256, 270], 'uint8')\n",
      "C:\\Users\\caios\\AppData\\Local\\Temp\\ipykernel_4384\\3990032683.py:1: DeprecationWarning: NumPy will stop allowing conversion of out-of-bound Python integers to integer arrays.  The conversion of 270 to uint8 will fail in the future.\n",
      "For the old behavior, usually:\n",
      "    np.array(value).astype(dtype)\n",
      "will give the desired result (the cast overflows).\n",
      "  a = np.array([2,3,4,-1,-2,256, 270], 'uint8')\n"
     ]
    }
   ],
   "source": [
    "a = np.array([2,3,4,-1,-2,256, 270], 'uint8')\n",
    "print('Dimensões: a.shape =', a.shape)\n",
    "print('Tipo dos elementos: a.dtype =', a.dtype)\n",
    "print('Imprimindo o array completo:\\n a =',a)"
   ]
  },
  {
   "cell_type": "markdown",
   "metadata": {},
   "source": [
    "Veja a seguir uma matriz bidimensional de dados ponto flutuante de 2 linhas e 3 colunas. Observe que a tupla do shape aumenta para a esquerda, isto é, se eu tiver um vetor de 3 elementos, o seu shape é (3,) e se uma nova dimensão for adicionada, por exemplo 2 linhas e 3 colunas, o shape passa a ser (2,3). Enquanto o shape[0] no vetor unidimensional representava o número de colunas, na matriz bidimensional shape[0] passou a ser o número de linhas. Assim o último elemento da tupla do shape indica o número de colunas e o penúltimo elemento indica o número de linhas. De modo geral, independentemente do número de dimensões, shape[-1] informa o número de colunas e shape[-2] o número de linhas."
   ]
  },
  {
   "cell_type": "code",
   "execution_count": 82,
   "metadata": {},
   "outputs": [
    {
     "name": "stdout",
     "output_type": "stream",
     "text": [
      "Um array bidimensional, dimensões: b.shape = (2, 3)\n",
      "Tipo dos elementos: b.dtype = float64\n",
      "Número de colunas: 3\n",
      "Número de linhas: 2\n",
      "Imprimindo o array completo:\n",
      " [[1.5 2.3 5.2]\n",
      " [4.2 5.6 4.4]]\n"
     ]
    }
   ],
   "source": [
    "b = np.array([[1.5, 2.3, 5.2],\n",
    "              [4.2, 5.6, 4.4]])\n",
    "print ('Um array bidimensional, dimensões: b.shape =', b.shape)\n",
    "print ('Tipo dos elementos: b.dtype =', b.dtype)\n",
    "print ('Número de colunas:', b.shape[-1])\n",
    "print ('Número de linhas:', b.shape[-2])\n",
    "print ('Imprimindo o array completo:\\n', b)"
   ]
  },
  {
   "cell_type": "markdown",
   "metadata": {},
   "source": [
    "# Criação de arrays\n",
    "\n",
    "## Criando arrays inicializados\n",
    "\n",
    "É possível criar arrays de zeros, uns ou valores não inicializados usando as funções *zeros*, *ones* ou *empty*. As dimensões do array são obrigatórias e definidas por uma tupla, já o tipo dos elementos é opcional, sendo que o default é o tipo float.\n",
    "\n",
    "O código a seguir cria 3 arrays. O primeiro possui 2 linhas e 4 colunas. O segundo tem 3 dimensões: 3 fatias (ou imagens) onde cada uma tem 2 linhas e 5 colunas. Por último, é criado uma matriz booleana (True e False) de valores não inicializados de 2 linhas e 3 colunas. A vantagem do empty é que ele é mais rápido que o ones e ligeiramente mais rápido que o zeros. No caso abaixo, os valores mostrados na matriz criada pelo empty são aleatórios."
   ]
  },
  {
   "cell_type": "code",
   "execution_count": 83,
   "metadata": {},
   "outputs": [
    {
     "name": "stdout",
     "output_type": "stream",
     "text": [
      "Array de 0s:\n",
      " [[0. 0. 0. 0.]\n",
      " [0. 0. 0. 0.]]\n",
      "\n",
      "Array de 1s:\n",
      " [[[1 1 1 1 1]\n",
      "  [1 1 1 1 1]]\n",
      "\n",
      " [[1 1 1 1 1]\n",
      "  [1 1 1 1 1]]\n",
      "\n",
      " [[1 1 1 1 1]\n",
      "  [1 1 1 1 1]]]\n",
      "\n",
      "Array não inicializado (valor é indeterminado):\n",
      " [[ True  True  True]\n",
      " [ True  True  True]]\n"
     ]
    }
   ],
   "source": [
    "d = np.zeros( (2,4) )\n",
    "print ('Array de 0s:\\n', d)\n",
    "\n",
    "d = np.ones( (3,2,5), dtype='int16' )\n",
    "print ('\\nArray de 1s:\\n', d)\n",
    "\n",
    "d = np.empty( (2,3), 'bool' )\n",
    "print ('\\nArray não inicializado (valor é indeterminado):\\n', d)"
   ]
  },
  {
   "cell_type": "code",
   "execution_count": 84,
   "metadata": {},
   "outputs": [
    {
     "name": "stdout",
     "output_type": "stream",
     "text": [
      "170 ms ± 7.36 ms per loop (mean ± std. dev. of 7 runs, 10 loops each)\n"
     ]
    }
   ],
   "source": [
    "%timeit a = np.ones((100000000,))"
   ]
  },
  {
   "cell_type": "code",
   "execution_count": 85,
   "metadata": {},
   "outputs": [
    {
     "name": "stdout",
     "output_type": "stream",
     "text": [
      "22.4 µs ± 329 ns per loop (mean ± std. dev. of 7 runs, 10,000 loops each)\n"
     ]
    }
   ],
   "source": [
    "%timeit a = np.zeros((100000000,))"
   ]
  },
  {
   "cell_type": "code",
   "execution_count": 86,
   "metadata": {},
   "outputs": [
    {
     "name": "stdout",
     "output_type": "stream",
     "text": [
      "22 µs ± 220 ns per loop (mean ± std. dev. of 7 runs, 10,000 loops each)\n"
     ]
    }
   ],
   "source": [
    "%timeit a = np.empty((100000000,))"
   ]
  },
  {
   "cell_type": "markdown",
   "metadata": {},
   "source": [
    "Note que o Numpy permite criar arrays n-dimensionais. Em imagens em níveis de cinza, iremos trabalhar com matrizes bidimensionais. Se a imagem for colorida, iremos representá-la em 3 canais (R, G e B), em arrays de 3 dimensões. Se for um vídeo, isto é, uma sequência de imagens, teremos que adicionar mais uma dimensão. Se for uma tomografia, também podemos representar em 3 dimensões: largura, altura e profundidade."
   ]
  },
  {
   "cell_type": "markdown",
   "metadata": {},
   "source": [
    "## Criando arrays com valores sequenciais\n",
    "\n",
    "As funções arange e linspace geram um vetor sequencial. Elas diferem apenas nos parâmetros. Enquanto o arange gera uma sequência a partir dos valores inicial (includente e opcional), final (excludente) e passo (opcional), linspace gera uma sequência com valores inicial e final e número de elementos. Note as diferenças nos exemplos a seguir:"
   ]
  },
  {
   "cell_type": "code",
   "execution_count": 87,
   "metadata": {},
   "outputs": [
    {
     "name": "stdout",
     "output_type": "stream",
     "text": [
      "np.arange(10) =  [0 1 2 3 4 5 6 7 8 9]\n",
      "np.arange(3, 8) =  [3 4 5 6 7]\n",
      "np.arange(0, 2, 0.5) =  [0.  0.5 1.  1.5]\n",
      "np.linspace(0, 2, 5) =  [0.  0.5 1.  1.5 2. ]\n"
     ]
    }
   ],
   "source": [
    "print('np.arange(10) = ', np.arange(10))\n",
    "print('np.arange(3, 8) = ', np.arange(3, 8))\n",
    "print('np.arange(0, 2, 0.5) = ', np.arange(0, 2, 0.5))\n",
    "print('np.linspace(0, 2, 5) = ', np.linspace(0, 2, 5))"
   ]
  },
  {
   "cell_type": "markdown",
   "metadata": {},
   "source": [
    "Veja que no último caso, usando o linspace, a sequência começa em 0, termina em 2 e deve possuir 5 elementos. Veja que para isto o passo a ser utilizado será 0.5, calculado automaticamente. Já no exemplo anterior, a sequência começa em 0, deve terminar antes de 2 e o passo é 0.5.\n",
    "\n",
    "# Documentação Oficial NumPy\n",
    "\n",
    "- [Numpy array](https://numpy.org/doc/stable/reference/generated/numpy.array.html)"
   ]
  }
 ],
 "metadata": {
  "kernelspec": {
   "display_name": "Python 3 (ipykernel)",
   "language": "python",
   "name": "python3"
  },
  "language_info": {
   "codemirror_mode": {
    "name": "ipython",
    "version": 3
   },
   "file_extension": ".py",
   "mimetype": "text/x-python",
   "name": "python",
   "nbconvert_exporter": "python",
   "pygments_lexer": "ipython3",
   "version": "3.11.6"
  },
  "toc": {
   "colors": {
    "hover_highlight": "#DAA520",
    "running_highlight": "#FF0000",
    "selected_highlight": "#FFD700"
   },
   "moveMenuLeft": true,
   "nav_menu": {
    "height": "65px",
    "width": "252px"
   },
   "navigate_menu": true,
   "number_sections": true,
   "sideBar": true,
   "threshold": 4,
   "toc_cell": true,
   "toc_section_display": "block",
   "toc_window_display": false
  },
  "vscode": {
   "interpreter": {
    "hash": "31f2aee4e71d21fbe5cf8b01ff0e069b9275f58929596ceb00d14d90e3e16cd6"
   }
  }
 },
 "nbformat": 4,
 "nbformat_minor": 2
}

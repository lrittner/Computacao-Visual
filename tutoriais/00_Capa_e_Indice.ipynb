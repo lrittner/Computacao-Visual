{
 "cells": [
  {
   "cell_type": "markdown",
   "metadata": {},
   "source": [
    "# EA979 - Introd. Computação Gráfica e Processamento de Imagem\n",
    "\n",
    "*Leticia Rittner*\n"
   ]
  },
  {
   "cell_type": "markdown",
   "metadata": {},
   "source": [
    "## Introdução ao Processamento de Imagens\n",
    "\n",
    "1. [Overview](01_Processamento_Imagens.ipynb)\n",
    "\n",
    "### Introdução às Imagens digitais\n",
    "    \n",
    "1. [Introdução ao NumPy](02_Aprendendo_Numpy.ipynb) \n",
    "2. [Manipulando imagens: abrir, salvar, visualizar, criar](03_Lendo_e_Visualizando_Imagens.ipynb)\n",
    "3. [Geração de imagens sintéticas](04_Gerando_imagens_sinteticas.ipynb)\n",
    "\n",
    "### Transformações radiométricas (ponto-a-ponto)\n",
    "\n",
    "1. [Histograma da Imagem](05_Histograma_da_imagem.ipynb)\n",
    "2. [Transformação de Intensidade](../master/tutorial_ti_2.ipynb)\n",
    "3. [Tutorial sobre equalização de histograma](../master/tutorial_hist_eq_2.ipynb)\n",
    "4. [Tutorial equalização de histograma por montagem de mosaico](../master/tutorial_pehist_1.ipynb)\n",
    "5. [Transformações em cores](06_Histograma_de_Imagens_Coloridas.ipynb)\n",
    "\n",
    "### Transformações espaciais (vizinhança)\n",
    "\n",
    "1. [Filtragem no domínio espacial](07_Filtragem_no_dominio_espacial.ipynb)\n",
    "2. [Convolução como média ponderada de translações da imagem](../master/tutorial_conv_3.ipynb)\n",
    "\n",
    "### Transformações no domínio da frequência - Transformada de Fourier\n",
    "\n",
    "1. [Geração de ondas senoidais 1D e 2D](08_Ondas_senoidais.ipynb)\n",
    "2. [Translação periódica](09_Translacao_periodica.ipynb)\n",
    "3. [Propriedades da DFT](10_A_transformada_discreta_de_Fourier_DFT.ipynb)\n",
    "4. [Teorema da Convolução](11_Teorema_da_Convolucao.ipynb)\n",
    "5. [Filtros em frequência](12_Filtros_em_frequencia.ipynb)\n",
    "\n",
    "### Segmentação\n",
    "\n",
    "1. [Segmentação por Otsu](14_Segmentacao_por_Otsu.ipynb)\n",
    "2. [Exemplo de segmentação por Watershed](15_Exemplo_de_Segmentacao_por_Watershed.ipynb)\n",
    "3. [Comparando Otsu e Watershed](16_Comparando_Otsu_e_Watershed.ipynb)\n",
    "\n",
    "## Introdução ao Computação Gráfica\n",
    "\n",
    "### Introdução ao OpenGL\n",
    "\n",
    "1. [Primeiro programa OpenGL](17_Primeiro_programa_OpenGL.ipynb)\n",
    "2. [Configurando uma cor única para todos os vértices](18_Configurando_uma_cor_unica_para_todos_os_vertices.ipynb)\n",
    "3. [Renderizando mais de um objeto](19_Renderizando_mais_de_um_objeto.ipynb)\n",
    "4. [Animando as cores dos triângulos](20_Animando_as_cores_dos_triangulos.ipynb)\n",
    "5. [Animando os vértice do triângulo](21_Animando_os_vertice_do_triangulo.ipynb)\n",
    "6. [Ordem de renderização e teste de profundidade](22_Ordem_de_renderizacao_e_teste_de_profundidade.ipynb)\n",
    "7. [Transparência](23_Transparencia.ipynb)\n",
    "8. [Eventos de teclado](24_Eventos_do_teclado.ipynb)\n",
    "9. [Descrevendo um modelo](25_Formas_de_especificar_um_modelo.ipynb)\n",
    "10. [Esfera com wireframe (culling e teste de profundidade ativados)](26_Esfera_com_wireframe_culling_depth.ipynb)\n",
    "11. [Transformações de modelo](27_Quadrado_com_transformacoes.ipynb)\n",
    "12. [Carregando modelos de arquivos *.OBJ](28_Carregando_modelos_de_arquivos_OBJ.ipynb)\n",
    "13. [Transformação de visão](29_Transformacao_visao.ipynb)\n",
    "14. [Transformação de projeção ortogonal](30_Transformacao_projecao_ortogonal.ipynb)\n",
    "15. [Transformação de projeção perspectiva](31_Transformacao_projecao_perspectiva.ipynb)\n",
    "16. [Renderização com diferentes shader programs](32_Esferas_com_diferentes_shader_programs.ipynb)\n",
    "17. [Terreno com esferas e fonte de luz pontual](33_Terreno_com_esferas_iluminacao_fonte_de_luz_pontual.ipynb)\n",
    "18. [Terreno com esferas e fonte de luz direcional](34_Terreno_com_esferas_iluminacao_fonte_de_luz_direcional.ipynb)\n",
    "19. [Terreno com esferas e fonte de luz spotlight](35_Terreno_com_esferas_iluminacao_fonte_de_luz_spotlight.ipynb)\n",
    "20. [Terreno com esferas e multiplas fontes de luz](36_Terreno_com_esferas_iluminacao_multiplas_fontes_de_luz.ipynb)\n",
    "21. [Renderizando uma textura por completo](37_Renderizando_uma_textura_por_completo.ipynb)\n",
    "22. [Renderizando parte de uma textura](38_Renderizando_parte_de_uma_textura.ipynb)\n",
    "23. [Renderizando sprites animados](39_Renderizando_sprites_animados.ipynb)\n",
    "24. [Objetos com texturas](40_Objetos_com_texturas.ipynb)\n",
    "25. [Objetos com texturas e height maps](41_Objetos_com_texturas_e_height_maps.ipynb)\n",
    "26. [Usando iluminação e textura em modelos carregados de arquivos OBJ](42_Usando_iluminacao_e_textura_em_modelos_carregados_de_arquivos_OBJ.ipynb)\n",
    "27. [Sistema_solar - final](43_Sistema_solar_final.ipynb)"
   ]
  },
  {
   "cell_type": "markdown",
   "metadata": {},
   "source": [
    "## Links úteis\n",
    "\n",
    "- [Jupyter Notebook - documentação](http://jupyter-notebook.readthedocs.io/en/latest/notebook.html)\n",
    "- [Jupyter notebook - tips and tricks](https://www.dataquest.io/blog/jupyter-notebook-tips-tricks-shortcuts/)\n",
    "- [Tutorial breve - Python](../deliver/tutorial-python.ipynb)\n",
    "- [Tutorial breve - NumPy](../deliver/tutorial-numpy.ipynb)"
   ]
  }
 ],
 "metadata": {
  "anaconda-cloud": {},
  "kernelspec": {
   "display_name": "Python 3 (ipykernel)",
   "language": "python",
   "name": "python3"
  },
  "language_info": {
   "codemirror_mode": {
    "name": "ipython",
    "version": 3
   },
   "file_extension": ".py",
   "mimetype": "text/x-python",
   "name": "python",
   "nbconvert_exporter": "python",
   "pygments_lexer": "ipython3",
   "version": "3.10.6"
  },
  "vscode": {
   "interpreter": {
    "hash": "31f2aee4e71d21fbe5cf8b01ff0e069b9275f58929596ceb00d14d90e3e16cd6"
   }
  }
 },
 "nbformat": 4,
 "nbformat_minor": 1
}

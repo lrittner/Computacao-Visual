{
 "cells": [
  {
   "cell_type": "markdown",
   "metadata": {},
   "source": [
    "# Formatando arrays para impressão"
   ]
  },
  {
   "cell_type": "markdown",
   "metadata": {},
   "source": [
    "## Imprimindo arrays de ponto flutuante\n",
    "\n",
    "Ao se imprimir arrays com valores em ponto flutuante, o NumPy em geral, imprime o array com muitas casas\n",
    "decimais e com notação científica, o que dificulta a visualização."
   ]
  },
  {
   "cell_type": "code",
   "execution_count": 2,
   "metadata": {},
   "outputs": [
    {
     "name": "stdout",
     "output_type": "stream",
     "text": [
      "A: \n",
      " [[3.68390306e-04 5.06993321e-04 6.97744275e-04 9.60263289e-04\n",
      "  1.32155235e-03 1.81877265e-03 2.50306691e-03 3.44481975e-03]\n",
      " [4.74089730e-03 6.52461051e-03 8.97942724e-03 1.23578432e-02\n",
      "  1.70073529e-02 2.34061923e-02 3.22125283e-02 4.43321564e-02]\n",
      " [6.10116684e-02 8.39666729e-02 1.15558259e-01 1.59035850e-01\n",
      "  2.18871431e-01 3.01219527e-01 4.14550236e-01 5.70520443e-01]\n",
      " [7.85172815e-01 1.08058591e+00 1.48714510e+00 2.04666794e+00\n",
      "  2.81670543e+00 3.87646151e+00 5.33493976e+00 7.34215526e+00]]\n"
     ]
    }
   ],
   "source": [
    "import numpy as np\n",
    "\n",
    "A = np.exp(np.linspace(0.1,10,32)).reshape(4,8)/3000.\n",
    "print('A: \\n', A )"
   ]
  },
  {
   "cell_type": "markdown",
   "metadata": {},
   "source": [
    "É possível diminuir o número de casas decimais e suprimir a notação exponencial utilizando\n",
    "a função **set_printoption** do numpy:"
   ]
  },
  {
   "cell_type": "code",
   "execution_count": 3,
   "metadata": {},
   "outputs": [
    {
     "name": "stdout",
     "output_type": "stream",
     "text": [
      "A: \n",
      " [[0.    0.001 0.001 0.001 0.001 0.002 0.003 0.003]\n",
      " [0.005 0.007 0.009 0.012 0.017 0.023 0.032 0.044]\n",
      " [0.061 0.084 0.116 0.159 0.219 0.301 0.415 0.571]\n",
      " [0.785 1.081 1.487 2.047 2.817 3.876 5.335 7.342]]\n"
     ]
    }
   ],
   "source": [
    "np.set_printoptions(suppress=True, precision=3)\n",
    "\n",
    "print('A: \\n', A )"
   ]
  },
  {
   "cell_type": "markdown",
   "metadata": {},
   "source": [
    "## Imprimindo arrays binários\n",
    "\n",
    "Array booleanos são impressos com as palavras **True** e **False**, como no exemplo a seguir:"
   ]
  },
  {
   "cell_type": "code",
   "execution_count": 4,
   "metadata": {},
   "outputs": [
    {
     "name": "stdout",
     "output_type": "stream",
     "text": [
      "A = \n",
      " [[ True  True False False  True False  True  True  True  True]\n",
      " [False False  True False  True False  True  True  True False]\n",
      " [ True False  True False  True  True False  True False False]\n",
      " [False False False False False False False  True False  True]\n",
      " [False  True  True  True  True  True  True False False False]]\n"
     ]
    }
   ],
   "source": [
    "A = np.random.rand(5,10) > 0.5\n",
    "print('A = \\n', A )"
   ]
  },
  {
   "cell_type": "markdown",
   "metadata": {},
   "source": [
    "Para facilitar a visualização destes arrays, é possível converter os valores para inteiros utilizando\n",
    "o método **astype(int)**:"
   ]
  },
  {
   "cell_type": "code",
   "execution_count": 5,
   "metadata": {},
   "outputs": [
    {
     "name": "stdout",
     "output_type": "stream",
     "text": [
      "A = \n",
      " [[1 1 0 0 1 0 1 1 1 1]\n",
      " [0 0 1 0 1 0 1 1 1 0]\n",
      " [1 0 1 0 1 1 0 1 0 0]\n",
      " [0 0 0 0 0 0 0 1 0 1]\n",
      " [0 1 1 1 1 1 1 0 0 0]]\n"
     ]
    }
   ],
   "source": [
    "print ('A = \\n', A.astype(int))"
   ]
  }
 ],
 "metadata": {
  "kernelspec": {
   "display_name": "Python 3",
   "language": "python",
   "name": "python3"
  },
  "language_info": {
   "codemirror_mode": {
    "name": "ipython",
    "version": 3
   },
   "file_extension": ".py",
   "mimetype": "text/x-python",
   "name": "python",
   "nbconvert_exporter": "python",
   "pygments_lexer": "ipython3",
   "version": "3.11.6"
  },
  "vscode": {
   "interpreter": {
    "hash": "31f2aee4e71d21fbe5cf8b01ff0e069b9275f58929596ceb00d14d90e3e16cd6"
   }
  }
 },
 "nbformat": 4,
 "nbformat_minor": 1
}
